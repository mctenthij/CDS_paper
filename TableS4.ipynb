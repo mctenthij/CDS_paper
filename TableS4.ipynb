{
 "cells": [
  {
   "cell_type": "code",
   "execution_count": 1,
   "metadata": {},
   "outputs": [],
   "source": [
    "import numpy as np\n",
    "import pandas as pd"
   ]
  },
  {
   "cell_type": "markdown",
   "metadata": {},
   "source": [
    "Load relative prevalence for all individuals"
   ]
  },
  {
   "cell_type": "code",
   "execution_count": 2,
   "metadata": {},
   "outputs": [],
   "source": [
    "RP = pd.read_csv(\"bootstrap/relative_prevalence.tsv\", sep=\"\\t\", index_col=[0], header=None)[1]\n"
   ]
  },
  {
   "cell_type": "markdown",
   "metadata": {},
   "source": [
    "Load relative prevalence without URLs for all individuals"
   ]
  },
  {
   "cell_type": "code",
   "execution_count": 3,
   "metadata": {},
   "outputs": [],
   "source": [
    "RP_no_URLs = pd.read_csv(\"bootstrap/relative_prevalence_no_urls_nor_http.tsv\", sep=\"\\t\", index_col=0, header=None)"
   ]
  },
  {
   "cell_type": "markdown",
   "metadata": {},
   "source": [
    "Load relative prevalence per category"
   ]
  },
  {
   "cell_type": "code",
   "execution_count": 4,
   "metadata": {},
   "outputs": [],
   "source": [
    "RP_category = pd.read_csv(\"bootstrap/relative_prevalence_category.tsv\", sep=\"\\t\", index_col=[0])"
   ]
  },
  {
   "cell_type": "markdown",
   "metadata": {},
   "source": [
    "Load relative prevalence without URLs per category"
   ]
  },
  {
   "cell_type": "code",
   "execution_count": 5,
   "metadata": {},
   "outputs": [],
   "source": [
    "RP_category_no_URLs = pd.read_csv(\"bootstrap/relative_prevalence_no_urls_nor_http_category.tsv\", sep=\"\\t\", index_col=0)"
   ]
  },
  {
   "cell_type": "markdown",
   "metadata": {},
   "source": [
    "Define outputting function"
   ]
  },
  {
   "cell_type": "code",
   "execution_count": 6,
   "metadata": {},
   "outputs": [],
   "source": [
    "def output_median(x):\n",
    "    return \"{:.3f}{}\".format(x.median(), \"*\" if x.quantile(q=0.025) > 1 else \"\")\n",
    "\n",
    "\n",
    "def output_CI(x):\n",
    "    return \"$[$\" + \"{:.3f}, {:.3f}\".format(x.quantile(q=0.025), x.quantile(q=0.975)) + r\"$]$\""
   ]
  },
  {
   "cell_type": "markdown",
   "metadata": {},
   "source": [
    "# Initialize Table"
   ]
  },
  {
   "cell_type": "code",
   "execution_count": 7,
   "metadata": {},
   "outputs": [],
   "source": [
    "order = RP_category.median().sort_values(ascending=False).index\n",
    "\n",
    "idxvals = np.concatenate((np.array(['Total']), order), axis=None)\n",
    "table = pd.DataFrame(index=pd.Index(idxvals, name=\"CD Category\"))"
   ]
  },
  {
   "cell_type": "markdown",
   "metadata": {},
   "source": [
    "Include relative prevalence values in table"
   ]
  },
  {
   "cell_type": "code",
   "execution_count": 8,
   "metadata": {},
   "outputs": [],
   "source": [
    "table.loc[\"Total\", r\"$PR$ median\"] = output_median(RP)\n",
    "table.loc[order, r\"$PR$ median\"] = RP_category.loc[:, order].apply(lambda x: output_median(x))\n",
    "\n",
    "table.loc[\"Total\", r\"$PR$ 95% CI\"] = output_CI(RP)\n",
    "table.loc[order, r\"$PR$ 95% CI\"] = RP_category.loc[:, order].apply(lambda x: output_CI(x))"
   ]
  },
  {
   "cell_type": "markdown",
   "metadata": {},
   "source": [
    "Include relative prevalence without URLs"
   ]
  },
  {
   "cell_type": "code",
   "execution_count": 9,
   "metadata": {},
   "outputs": [],
   "source": [
    "table.loc[\"Total\", r\"$PR_{http}$ median\"] = output_median(RP_no_URLs[1])\n",
    "table.loc[order, r\"$PR_{http}$ median\"] = RP_category_no_URLs.loc[:, order].apply(output_median)\n",
    "\n",
    "table.loc[\"Total\", r\"$PR_{http}$ 95% CI\"] = output_CI(RP_no_URLs[1])\n",
    "table.loc[order, r\"$PR_{http}$ 95% CI\"] = RP_category_no_URLs.loc[:, order].apply(output_CI)"
   ]
  },
  {
   "cell_type": "markdown",
   "metadata": {},
   "source": [
    "# Table"
   ]
  },
  {
   "cell_type": "code",
   "execution_count": 10,
   "metadata": {},
   "outputs": [
    {
     "data": {
      "text/html": [
       "<div>\n",
       "<style scoped>\n",
       "    .dataframe tbody tr th:only-of-type {\n",
       "        vertical-align: middle;\n",
       "    }\n",
       "\n",
       "    .dataframe tbody tr th {\n",
       "        vertical-align: top;\n",
       "    }\n",
       "\n",
       "    .dataframe thead th {\n",
       "        text-align: right;\n",
       "    }\n",
       "</style>\n",
       "<table border=\"1\" class=\"dataframe\">\n",
       "  <thead>\n",
       "    <tr style=\"text-align: right;\">\n",
       "      <th></th>\n",
       "      <th>$PR$ median</th>\n",
       "      <th>$PR$ 95% CI</th>\n",
       "      <th>$PR_{http}$ median</th>\n",
       "      <th>$PR_{http}$ 95% CI</th>\n",
       "    </tr>\n",
       "    <tr>\n",
       "      <th>CD Category</th>\n",
       "      <th></th>\n",
       "      <th></th>\n",
       "      <th></th>\n",
       "      <th></th>\n",
       "    </tr>\n",
       "  </thead>\n",
       "  <tbody>\n",
       "    <tr>\n",
       "      <th>Total</th>\n",
       "      <td>1.129*</td>\n",
       "      <td>$[$1.102, 1.157$]$</td>\n",
       "      <td>1.105*</td>\n",
       "      <td>$[$1.079, 1.131$]$</td>\n",
       "    </tr>\n",
       "    <tr>\n",
       "      <th>Personalizing</th>\n",
       "      <td>2.084*</td>\n",
       "      <td>$[$1.940, 2.239$]$</td>\n",
       "      <td>1.942*</td>\n",
       "      <td>$[$1.803, 2.088$]$</td>\n",
       "    </tr>\n",
       "    <tr>\n",
       "      <th>Emotional Reasoning</th>\n",
       "      <td>1.983*</td>\n",
       "      <td>$[$1.759, 2.228$]$</td>\n",
       "      <td>1.778*</td>\n",
       "      <td>$[$1.566, 2.013$]$</td>\n",
       "    </tr>\n",
       "    <tr>\n",
       "      <th>Overgeneralizing</th>\n",
       "      <td>1.441*</td>\n",
       "      <td>$[$1.367, 1.518$]$</td>\n",
       "      <td>1.335*</td>\n",
       "      <td>$[$1.268, 1.404$]$</td>\n",
       "    </tr>\n",
       "    <tr>\n",
       "      <th>Mental Filtering</th>\n",
       "      <td>1.296*</td>\n",
       "      <td>$[$1.129, 1.471$]$</td>\n",
       "      <td>1.119</td>\n",
       "      <td>$[$0.961, 1.288$]$</td>\n",
       "    </tr>\n",
       "    <tr>\n",
       "      <th>Disqualifying the Positive</th>\n",
       "      <td>1.229*</td>\n",
       "      <td>$[$1.142, 1.320$]$</td>\n",
       "      <td>1.137*</td>\n",
       "      <td>$[$1.056, 1.222$]$</td>\n",
       "    </tr>\n",
       "    <tr>\n",
       "      <th>Labeling and mislabeling</th>\n",
       "      <td>1.207*</td>\n",
       "      <td>$[$1.159, 1.256$]$</td>\n",
       "      <td>1.137*</td>\n",
       "      <td>$[$1.094, 1.184$]$</td>\n",
       "    </tr>\n",
       "    <tr>\n",
       "      <th>Dichotomous Reasoning</th>\n",
       "      <td>1.131*</td>\n",
       "      <td>$[$1.101, 1.162$]$</td>\n",
       "      <td>1.107*</td>\n",
       "      <td>$[$1.079, 1.136$]$</td>\n",
       "    </tr>\n",
       "    <tr>\n",
       "      <th>Fortune-telling</th>\n",
       "      <td>1.110</td>\n",
       "      <td>$[$0.955, 1.219$]$</td>\n",
       "      <td>1.135*</td>\n",
       "      <td>$[$1.073, 1.200$]$</td>\n",
       "    </tr>\n",
       "    <tr>\n",
       "      <th>Magnification and Minimization</th>\n",
       "      <td>1.084*</td>\n",
       "      <td>$[$1.039, 1.130$]$</td>\n",
       "      <td>1.103*</td>\n",
       "      <td>$[$1.058, 1.152$]$</td>\n",
       "    </tr>\n",
       "    <tr>\n",
       "      <th>Should statements</th>\n",
       "      <td>1.056*</td>\n",
       "      <td>$[$1.013, 1.100$]$</td>\n",
       "      <td>1.043*</td>\n",
       "      <td>$[$1.002, 1.085$]$</td>\n",
       "    </tr>\n",
       "    <tr>\n",
       "      <th>Mindreading</th>\n",
       "      <td>1.052</td>\n",
       "      <td>$[$0.984, 1.117$]$</td>\n",
       "      <td>1.011</td>\n",
       "      <td>$[$0.954, 1.072$]$</td>\n",
       "    </tr>\n",
       "    <tr>\n",
       "      <th>Catastrophizing</th>\n",
       "      <td>0.920</td>\n",
       "      <td>$[$0.763, 1.077$]$</td>\n",
       "      <td>0.867</td>\n",
       "      <td>$[$0.689, 1.041$]$</td>\n",
       "    </tr>\n",
       "  </tbody>\n",
       "</table>\n",
       "</div>"
      ],
      "text/plain": [
       "                               $PR$ median         $PR$ 95% CI  \\\n",
       "CD Category                                                      \n",
       "Total                               1.129*  $[$1.102, 1.157$]$   \n",
       "Personalizing                       2.084*  $[$1.940, 2.239$]$   \n",
       "Emotional Reasoning                 1.983*  $[$1.759, 2.228$]$   \n",
       "Overgeneralizing                    1.441*  $[$1.367, 1.518$]$   \n",
       "Mental Filtering                    1.296*  $[$1.129, 1.471$]$   \n",
       "Disqualifying the Positive          1.229*  $[$1.142, 1.320$]$   \n",
       "Labeling and mislabeling            1.207*  $[$1.159, 1.256$]$   \n",
       "Dichotomous Reasoning               1.131*  $[$1.101, 1.162$]$   \n",
       "Fortune-telling                      1.110  $[$0.955, 1.219$]$   \n",
       "Magnification and Minimization      1.084*  $[$1.039, 1.130$]$   \n",
       "Should statements                   1.056*  $[$1.013, 1.100$]$   \n",
       "Mindreading                          1.052  $[$0.984, 1.117$]$   \n",
       "Catastrophizing                      0.920  $[$0.763, 1.077$]$   \n",
       "\n",
       "                               $PR_{http}$ median  $PR_{http}$ 95% CI  \n",
       "CD Category                                                            \n",
       "Total                                      1.105*  $[$1.079, 1.131$]$  \n",
       "Personalizing                              1.942*  $[$1.803, 2.088$]$  \n",
       "Emotional Reasoning                        1.778*  $[$1.566, 2.013$]$  \n",
       "Overgeneralizing                           1.335*  $[$1.268, 1.404$]$  \n",
       "Mental Filtering                            1.119  $[$0.961, 1.288$]$  \n",
       "Disqualifying the Positive                 1.137*  $[$1.056, 1.222$]$  \n",
       "Labeling and mislabeling                   1.137*  $[$1.094, 1.184$]$  \n",
       "Dichotomous Reasoning                      1.107*  $[$1.079, 1.136$]$  \n",
       "Fortune-telling                            1.135*  $[$1.073, 1.200$]$  \n",
       "Magnification and Minimization             1.103*  $[$1.058, 1.152$]$  \n",
       "Should statements                          1.043*  $[$1.002, 1.085$]$  \n",
       "Mindreading                                 1.011  $[$0.954, 1.072$]$  \n",
       "Catastrophizing                             0.867  $[$0.689, 1.041$]$  "
      ]
     },
     "execution_count": 10,
     "metadata": {},
     "output_type": "execute_result"
    }
   ],
   "source": [
    "table"
   ]
  },
  {
   "cell_type": "code",
   "execution_count": 11,
   "metadata": {},
   "outputs": [],
   "source": [
    "table.to_csv(\"figures/TableS4.tex\", sep=\"&\")"
   ]
  },
  {
   "cell_type": "code",
   "execution_count": null,
   "metadata": {},
   "outputs": [],
   "source": []
  }
 ],
 "metadata": {
  "kernelspec": {
   "display_name": "Python 3",
   "language": "python",
   "name": "python3"
  },
  "language_info": {
   "codemirror_mode": {
    "name": "ipython",
    "version": 3
   },
   "file_extension": ".py",
   "mimetype": "text/x-python",
   "name": "python",
   "nbconvert_exporter": "python",
   "pygments_lexer": "ipython3",
   "version": "3.9.0"
  }
 },
 "nbformat": 4,
 "nbformat_minor": 2
}

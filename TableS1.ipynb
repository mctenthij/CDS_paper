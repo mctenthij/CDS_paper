{
 "cells": [
  {
   "cell_type": "code",
   "execution_count": 1,
   "metadata": {},
   "outputs": [],
   "source": [
    "import re\n",
    "\n",
    "import numpy as np\n",
    "import pandas as pd"
   ]
  },
  {
   "cell_type": "markdown",
   "metadata": {},
   "source": [
    "Load cognitive distortion schemata (CDS)"
   ]
  },
  {
   "cell_type": "code",
   "execution_count": 2,
   "metadata": {},
   "outputs": [],
   "source": [
    "_CDS = pd.read_csv(\"data/list_of_CDS.tsv\", sep=\"\\t\", index_col=\"markers\")\n",
    "_CDS[\"variants\"].fillna(\"[]\", inplace=True)\n",
    "_CDS[\"variants\"] = _CDS[\"variants\"].apply(eval)"
   ]
  },
  {
   "cell_type": "markdown",
   "metadata": {},
   "source": [
    "Determine n-gram size for each schema, label schemata that contain first person pronouns, and group CDS per category."
   ]
  },
  {
   "cell_type": "code",
   "execution_count": 3,
   "metadata": {},
   "outputs": [],
   "source": [
    "_CDS[\"ngram\"] = _CDS.apply(lambda x: len(x.name.split(\" \")), axis=1)\n",
    "_CDS[\"FPP\"] = _CDS.apply(lambda x: any(re.search(r\"\\b{}\\b\".format(fpp), x.name) for fpp in [\"I\", \"me\", \"my\", \"myself\", \"mine\"]), axis=1)\n",
    "\n",
    "per_cat = _CDS.groupby(\"categories\")"
   ]
  },
  {
   "cell_type": "markdown",
   "metadata": {},
   "source": [
    "Load CDS results per tweet"
   ]
  },
  {
   "cell_type": "code",
   "execution_count": 4,
   "metadata": {},
   "outputs": [],
   "source": [
    "CDS_D = pd.read_csv(\"results/D_per_tweet_CDS.tsv.gz\", sep=\"\\t\", index_col=[0])\n",
    "CDS_R = pd.read_csv(\"results/R_per_tweet_CDS.tsv.gz\", sep=\"\\t\", index_col=[0])"
   ]
  },
  {
   "cell_type": "markdown",
   "metadata": {},
   "source": [
    "Load relative prevalence per category"
   ]
  },
  {
   "cell_type": "code",
   "execution_count": 5,
   "metadata": {},
   "outputs": [],
   "source": [
    "RP_category = pd.read_csv(\"bootstrap/relative_prevalence_category.tsv\", sep=\"\\t\", index_col=[0])"
   ]
  },
  {
   "cell_type": "markdown",
   "metadata": {},
   "source": [
    "Determine which CDS appear in either of both cohorts."
   ]
  },
  {
   "cell_type": "code",
   "execution_count": 6,
   "metadata": {},
   "outputs": [],
   "source": [
    "exists = _CDS[(CDS_D.sum() > 0) | (CDS_R.sum() > 0)]"
   ]
  },
  {
   "cell_type": "markdown",
   "metadata": {},
   "source": [
    "# Initialize Table"
   ]
  },
  {
   "cell_type": "code",
   "execution_count": 7,
   "metadata": {},
   "outputs": [],
   "source": [
    "order = RP_category.median().sort_values(ascending=False).index\n",
    "idxvals = np.concatenate((order, np.array(['Total'])), axis=None)\n",
    "table = pd.DataFrame(index=pd.Index(idxvals, name=\"CD Category\"))"
   ]
  },
  {
   "cell_type": "markdown",
   "metadata": {},
   "source": [
    "Count schemata per category"
   ]
  },
  {
   "cell_type": "code",
   "execution_count": 8,
   "metadata": {},
   "outputs": [],
   "source": [
    "table[r\"$N_{CD}$\"] = per_cat.count()[\"variants\"]\n",
    "table.loc[\"Total\", r\"$N_{CD}$\"] = _CDS.index.size\n",
    "table[r\"$N_{CD}$\"] = table[r\"$N_{CD}$\"].astype(int)"
   ]
  },
  {
   "cell_type": "markdown",
   "metadata": {},
   "source": [
    "Count schemata that occur in at least one of both cohorts"
   ]
  },
  {
   "cell_type": "code",
   "execution_count": 9,
   "metadata": {},
   "outputs": [],
   "source": [
    "table[r\"$N_\\exists$\"] = exists.groupby(\"categories\").count()[\"variants\"]\n",
    "table.loc[\"Total\", r\"$N_\\exists$\"] = exists.index.size\n",
    "table[r\"$N_\\exists$\"] = table[r\"$N_\\exists$\"].astype(int)"
   ]
  },
  {
   "cell_type": "markdown",
   "metadata": {},
   "source": [
    "Calculate average n-gram size of schemata"
   ]
  },
  {
   "cell_type": "code",
   "execution_count": 10,
   "metadata": {},
   "outputs": [],
   "source": [
    "table[r\"$\\bar{n}$\"] = np.around(per_cat.mean()[\"ngram\"], decimals=3)\n",
    "table.loc[\"Total\", r\"$\\bar{n}$\"] = np.around(_CDS.mean()[\"ngram\"], decimals=3)"
   ]
  },
  {
   "cell_type": "markdown",
   "metadata": {},
   "source": [
    "Calculate percentage of CDS that contain a first person pronoun"
   ]
  },
  {
   "cell_type": "code",
   "execution_count": 11,
   "metadata": {},
   "outputs": [],
   "source": [
    "table[r\"$FPP(\\%)$\"] = np.around(100 * per_cat.sum()[\"FPP\"] / per_cat.count()[\"FPP\"], decimals=1).replace(0, \"/\")\n",
    "table.loc[\"Total\", r\"$FPP(\\%)$\"] = np.around(100 * _CDS[\"FPP\"].sum() / _CDS[\"FPP\"].count(), decimals=1)"
   ]
  },
  {
   "cell_type": "markdown",
   "metadata": {},
   "source": [
    "# Table"
   ]
  },
  {
   "cell_type": "code",
   "execution_count": 12,
   "metadata": {},
   "outputs": [
    {
     "data": {
      "text/html": [
       "<div>\n",
       "<style scoped>\n",
       "    .dataframe tbody tr th:only-of-type {\n",
       "        vertical-align: middle;\n",
       "    }\n",
       "\n",
       "    .dataframe tbody tr th {\n",
       "        vertical-align: top;\n",
       "    }\n",
       "\n",
       "    .dataframe thead th {\n",
       "        text-align: right;\n",
       "    }\n",
       "</style>\n",
       "<table border=\"1\" class=\"dataframe\">\n",
       "  <thead>\n",
       "    <tr style=\"text-align: right;\">\n",
       "      <th></th>\n",
       "      <th>$N_{CD}$</th>\n",
       "      <th>$N_\\exists$</th>\n",
       "      <th>$\\bar{n}$</th>\n",
       "      <th>$FPP(\\%)$</th>\n",
       "    </tr>\n",
       "    <tr>\n",
       "      <th>CD Category</th>\n",
       "      <th></th>\n",
       "      <th></th>\n",
       "      <th></th>\n",
       "      <th></th>\n",
       "    </tr>\n",
       "  </thead>\n",
       "  <tbody>\n",
       "    <tr>\n",
       "      <th>Personalizing</th>\n",
       "      <td>14</td>\n",
       "      <td>14</td>\n",
       "      <td>2.429</td>\n",
       "      <td>100</td>\n",
       "    </tr>\n",
       "    <tr>\n",
       "      <th>Emotional Reasoning</th>\n",
       "      <td>7</td>\n",
       "      <td>7</td>\n",
       "      <td>2.857</td>\n",
       "      <td>42.9</td>\n",
       "    </tr>\n",
       "    <tr>\n",
       "      <th>Overgeneralizing</th>\n",
       "      <td>21</td>\n",
       "      <td>21</td>\n",
       "      <td>2.762</td>\n",
       "      <td>9.5</td>\n",
       "    </tr>\n",
       "    <tr>\n",
       "      <th>Mental Filtering</th>\n",
       "      <td>14</td>\n",
       "      <td>14</td>\n",
       "      <td>2.786</td>\n",
       "      <td>35.7</td>\n",
       "    </tr>\n",
       "    <tr>\n",
       "      <th>Disqualifying the Positive</th>\n",
       "      <td>14</td>\n",
       "      <td>13</td>\n",
       "      <td>2.286</td>\n",
       "      <td>/</td>\n",
       "    </tr>\n",
       "    <tr>\n",
       "      <th>Labeling and mislabeling</th>\n",
       "      <td>44</td>\n",
       "      <td>44</td>\n",
       "      <td>2.273</td>\n",
       "      <td>6.8</td>\n",
       "    </tr>\n",
       "    <tr>\n",
       "      <th>Dichotomous Reasoning</th>\n",
       "      <td>23</td>\n",
       "      <td>23</td>\n",
       "      <td>1.348</td>\n",
       "      <td>/</td>\n",
       "    </tr>\n",
       "    <tr>\n",
       "      <th>Fortune-telling</th>\n",
       "      <td>8</td>\n",
       "      <td>8</td>\n",
       "      <td>3.125</td>\n",
       "      <td>12.5</td>\n",
       "    </tr>\n",
       "    <tr>\n",
       "      <th>Magnification and Minimization</th>\n",
       "      <td>8</td>\n",
       "      <td>8</td>\n",
       "      <td>2.000</td>\n",
       "      <td>/</td>\n",
       "    </tr>\n",
       "    <tr>\n",
       "      <th>Should statements</th>\n",
       "      <td>5</td>\n",
       "      <td>5</td>\n",
       "      <td>1.400</td>\n",
       "      <td>/</td>\n",
       "    </tr>\n",
       "    <tr>\n",
       "      <th>Mindreading</th>\n",
       "      <td>72</td>\n",
       "      <td>71</td>\n",
       "      <td>3.125</td>\n",
       "      <td>/</td>\n",
       "    </tr>\n",
       "    <tr>\n",
       "      <th>Catastrophizing</th>\n",
       "      <td>11</td>\n",
       "      <td>10</td>\n",
       "      <td>3.000</td>\n",
       "      <td>/</td>\n",
       "    </tr>\n",
       "    <tr>\n",
       "      <th>Total</th>\n",
       "      <td>241</td>\n",
       "      <td>238</td>\n",
       "      <td>2.573</td>\n",
       "      <td>11.6</td>\n",
       "    </tr>\n",
       "  </tbody>\n",
       "</table>\n",
       "</div>"
      ],
      "text/plain": [
       "                                $N_{CD}$  $N_\\exists$  $\\bar{n}$ $FPP(\\%)$\n",
       "CD Category                                                               \n",
       "Personalizing                         14           14      2.429       100\n",
       "Emotional Reasoning                    7            7      2.857      42.9\n",
       "Overgeneralizing                      21           21      2.762       9.5\n",
       "Mental Filtering                      14           14      2.786      35.7\n",
       "Disqualifying the Positive            14           13      2.286         /\n",
       "Labeling and mislabeling              44           44      2.273       6.8\n",
       "Dichotomous Reasoning                 23           23      1.348         /\n",
       "Fortune-telling                        8            8      3.125      12.5\n",
       "Magnification and Minimization         8            8      2.000         /\n",
       "Should statements                      5            5      1.400         /\n",
       "Mindreading                           72           71      3.125         /\n",
       "Catastrophizing                       11           10      3.000         /\n",
       "Total                                241          238      2.573      11.6"
      ]
     },
     "execution_count": 12,
     "metadata": {},
     "output_type": "execute_result"
    }
   ],
   "source": [
    "table"
   ]
  },
  {
   "cell_type": "code",
   "execution_count": 13,
   "metadata": {},
   "outputs": [],
   "source": [
    "table.to_csv(\"figures/TableS1.tex\", sep=\"&\")"
   ]
  },
  {
   "cell_type": "code",
   "execution_count": null,
   "metadata": {},
   "outputs": [],
   "source": []
  }
 ],
 "metadata": {
  "kernelspec": {
   "display_name": "Python 3",
   "language": "python",
   "name": "python3"
  },
  "language_info": {
   "codemirror_mode": {
    "name": "ipython",
    "version": 3
   },
   "file_extension": ".py",
   "mimetype": "text/x-python",
   "name": "python",
   "nbconvert_exporter": "python",
   "pygments_lexer": "ipython3",
   "version": "3.9.0"
  }
 },
 "nbformat": 4,
 "nbformat_minor": 2
}

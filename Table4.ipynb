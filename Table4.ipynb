{
 "cells": [
  {
   "cell_type": "code",
   "execution_count": 1,
   "metadata": {},
   "outputs": [],
   "source": [
    "import numpy as np\n",
    "import pandas as pd"
   ]
  },
  {
   "cell_type": "markdown",
   "metadata": {},
   "source": [
    "Load cognitive distortion schemata (CDS)"
   ]
  },
  {
   "cell_type": "code",
   "execution_count": 2,
   "metadata": {},
   "outputs": [],
   "source": [
    "_CDS = pd.read_csv(\"data/list_of_CDS.tsv\", sep=\"\\t\", index_col=\"markers\")\n",
    "_CDS[\"variants\"].fillna(\"[]\", inplace=True)\n",
    "_CDS[\"variants\"] = _CDS[\"variants\"].apply(eval)"
   ]
  },
  {
   "cell_type": "markdown",
   "metadata": {},
   "source": [
    "Determine n-gram size for each schema, label schemata that contain first person pronouns, and group CDS per category."
   ]
  },
  {
   "cell_type": "code",
   "execution_count": 3,
   "metadata": {},
   "outputs": [],
   "source": [
    "per_cat = _CDS.groupby(\"categories\")"
   ]
  },
  {
   "cell_type": "markdown",
   "metadata": {},
   "source": [
    "Load per CDS bootstrap results"
   ]
  },
  {
   "cell_type": "code",
   "execution_count": 4,
   "metadata": {},
   "outputs": [],
   "source": [
    "RP_phrase = pd.read_csv(\"bootstrap/relative_prevalence_phrase.tsv\", sep=\"\\t\", index_col=[0])\n",
    "RP_category = pd.read_csv(\"bootstrap/relative_prevalence_category.tsv\", sep=\"\\t\", index_col=[0])"
   ]
  },
  {
   "cell_type": "markdown",
   "metadata": {},
   "source": [
    "Determine which CDS are significantly used more in the $D$ cohort."
   ]
  },
  {
   "cell_type": "code",
   "execution_count": 5,
   "metadata": {},
   "outputs": [],
   "source": [
    "significant = _CDS.loc[RP_phrase.loc[:, RP_phrase.quantile(q=0.025) > 1].columns, :]"
   ]
  },
  {
   "cell_type": "markdown",
   "metadata": {},
   "source": [
    "# Initialize Table"
   ]
  },
  {
   "cell_type": "code",
   "execution_count": 6,
   "metadata": {},
   "outputs": [],
   "source": [
    "order = RP_category.median().sort_values(ascending=False).index\n",
    "idxvals = np.concatenate((order, np.array(['Total'])), axis=None)\n",
    "table = pd.DataFrame(index=pd.Index(idxvals, name=\"CD Category\"))"
   ]
  },
  {
   "cell_type": "markdown",
   "metadata": {},
   "source": [
    "Count number of CDS per category"
   ]
  },
  {
   "cell_type": "code",
   "execution_count": 7,
   "metadata": {},
   "outputs": [],
   "source": [
    "table[r\"$N_{CD}$\"] = per_cat.count()[\"variants\"]\n",
    "table.loc[\"Total\", r\"$N_{CD}$\"] = _CDS.index.size\n",
    "table[r\"$N_{CD}$\"] = table[r\"$N_{CD}$\"].astype(int)"
   ]
  },
  {
   "cell_type": "markdown",
   "metadata": {},
   "source": [
    "Count number of schemata that occur significantly more in the $D$ cohort and determine which fraction of all CDS are significant."
   ]
  },
  {
   "cell_type": "code",
   "execution_count": 8,
   "metadata": {},
   "outputs": [],
   "source": [
    "table[r\"$N^*$\"] = significant.groupby(\"categories\").count()[\"variants\"]\n",
    "table.loc[\"Total\", r\"$N^*$\"] = significant.index.size\n",
    "table[r\"$N^*$\"] = table[r\"$N^*$\"].astype(int)\n",
    "\n",
    "table[r\"$N^*_r(\\%)$\"] = np.around(100 * table[r\"$N^*$\"] / table[r\"$N_{CD}$\"], decimals=1)"
   ]
  },
  {
   "cell_type": "markdown",
   "metadata": {},
   "source": [
    "# Table"
   ]
  },
  {
   "cell_type": "code",
   "execution_count": 9,
   "metadata": {},
   "outputs": [
    {
     "data": {
      "text/html": [
       "<div>\n",
       "<style scoped>\n",
       "    .dataframe tbody tr th:only-of-type {\n",
       "        vertical-align: middle;\n",
       "    }\n",
       "\n",
       "    .dataframe tbody tr th {\n",
       "        vertical-align: top;\n",
       "    }\n",
       "\n",
       "    .dataframe thead th {\n",
       "        text-align: right;\n",
       "    }\n",
       "</style>\n",
       "<table border=\"1\" class=\"dataframe\">\n",
       "  <thead>\n",
       "    <tr style=\"text-align: right;\">\n",
       "      <th></th>\n",
       "      <th>$N_{CD}$</th>\n",
       "      <th>$N^*$</th>\n",
       "      <th>$N^*_r(\\%)$</th>\n",
       "    </tr>\n",
       "    <tr>\n",
       "      <th>CD Category</th>\n",
       "      <th></th>\n",
       "      <th></th>\n",
       "      <th></th>\n",
       "    </tr>\n",
       "  </thead>\n",
       "  <tbody>\n",
       "    <tr>\n",
       "      <th>Personalizing</th>\n",
       "      <td>14</td>\n",
       "      <td>8</td>\n",
       "      <td>57.1</td>\n",
       "    </tr>\n",
       "    <tr>\n",
       "      <th>Emotional Reasoning</th>\n",
       "      <td>7</td>\n",
       "      <td>4</td>\n",
       "      <td>57.1</td>\n",
       "    </tr>\n",
       "    <tr>\n",
       "      <th>Overgeneralizing</th>\n",
       "      <td>21</td>\n",
       "      <td>12</td>\n",
       "      <td>57.1</td>\n",
       "    </tr>\n",
       "    <tr>\n",
       "      <th>Mental Filtering</th>\n",
       "      <td>14</td>\n",
       "      <td>3</td>\n",
       "      <td>21.4</td>\n",
       "    </tr>\n",
       "    <tr>\n",
       "      <th>Disqualifying the Positive</th>\n",
       "      <td>14</td>\n",
       "      <td>3</td>\n",
       "      <td>21.4</td>\n",
       "    </tr>\n",
       "    <tr>\n",
       "      <th>Labeling and mislabeling</th>\n",
       "      <td>44</td>\n",
       "      <td>15</td>\n",
       "      <td>34.1</td>\n",
       "    </tr>\n",
       "    <tr>\n",
       "      <th>Dichotomous Reasoning</th>\n",
       "      <td>23</td>\n",
       "      <td>14</td>\n",
       "      <td>60.9</td>\n",
       "    </tr>\n",
       "    <tr>\n",
       "      <th>Fortune-telling</th>\n",
       "      <td>8</td>\n",
       "      <td>2</td>\n",
       "      <td>25.0</td>\n",
       "    </tr>\n",
       "    <tr>\n",
       "      <th>Magnification and Minimization</th>\n",
       "      <td>8</td>\n",
       "      <td>3</td>\n",
       "      <td>37.5</td>\n",
       "    </tr>\n",
       "    <tr>\n",
       "      <th>Should statements</th>\n",
       "      <td>5</td>\n",
       "      <td>1</td>\n",
       "      <td>20.0</td>\n",
       "    </tr>\n",
       "    <tr>\n",
       "      <th>Mindreading</th>\n",
       "      <td>72</td>\n",
       "      <td>7</td>\n",
       "      <td>9.7</td>\n",
       "    </tr>\n",
       "    <tr>\n",
       "      <th>Catastrophizing</th>\n",
       "      <td>11</td>\n",
       "      <td>1</td>\n",
       "      <td>9.1</td>\n",
       "    </tr>\n",
       "    <tr>\n",
       "      <th>Total</th>\n",
       "      <td>241</td>\n",
       "      <td>73</td>\n",
       "      <td>30.3</td>\n",
       "    </tr>\n",
       "  </tbody>\n",
       "</table>\n",
       "</div>"
      ],
      "text/plain": [
       "                                $N_{CD}$  $N^*$  $N^*_r(\\%)$\n",
       "CD Category                                                 \n",
       "Personalizing                         14      8         57.1\n",
       "Emotional Reasoning                    7      4         57.1\n",
       "Overgeneralizing                      21     12         57.1\n",
       "Mental Filtering                      14      3         21.4\n",
       "Disqualifying the Positive            14      3         21.4\n",
       "Labeling and mislabeling              44     15         34.1\n",
       "Dichotomous Reasoning                 23     14         60.9\n",
       "Fortune-telling                        8      2         25.0\n",
       "Magnification and Minimization         8      3         37.5\n",
       "Should statements                      5      1         20.0\n",
       "Mindreading                           72      7          9.7\n",
       "Catastrophizing                       11      1          9.1\n",
       "Total                                241     73         30.3"
      ]
     },
     "execution_count": 9,
     "metadata": {},
     "output_type": "execute_result"
    }
   ],
   "source": [
    "table"
   ]
  },
  {
   "cell_type": "code",
   "execution_count": 10,
   "metadata": {},
   "outputs": [],
   "source": [
    "table.to_csv(\"figures/Table4.tex\", sep=\"&\")"
   ]
  },
  {
   "cell_type": "code",
   "execution_count": null,
   "metadata": {},
   "outputs": [],
   "source": []
  }
 ],
 "metadata": {
  "kernelspec": {
   "display_name": "Python 3",
   "language": "python",
   "name": "python3"
  },
  "language_info": {
   "codemirror_mode": {
    "name": "ipython",
    "version": 3
   },
   "file_extension": ".py",
   "mimetype": "text/x-python",
   "name": "python",
   "nbconvert_exporter": "python",
   "pygments_lexer": "ipython3",
   "version": "3.9.0"
  }
 },
 "nbformat": 4,
 "nbformat_minor": 2
}

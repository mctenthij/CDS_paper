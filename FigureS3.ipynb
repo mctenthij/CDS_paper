{
 "cells": [
  {
   "cell_type": "code",
   "execution_count": 1,
   "metadata": {},
   "outputs": [
    {
     "name": "stdout",
     "output_type": "stream",
     "text": [
      "Python implementation: CPython\n",
      "Python version       : 3.9.0\n",
      "IPython version      : 7.19.0\n",
      "\n",
      "Compiler    : Clang 12.0.0 (clang-1200.0.32.27)\n",
      "OS          : Darwin\n",
      "Release     : 20.1.0\n",
      "Machine     : x86_64\n",
      "Processor   : i386\n",
      "CPU cores   : 12\n",
      "Architecture: 64bit\n",
      "\n",
      "Git hash: \n",
      "\n",
      "watermark : 2.1.0\n",
      "numpy     : 1.19.4\n",
      "pandas    : 1.1.4\n",
      "matplotlib: 3.3.3\n",
      "\n"
     ]
    }
   ],
   "source": [
    "import matplotlib.patches as mpatches\n",
    "import matplotlib.pyplot as plt\n",
    "import matplotlib.ticker as mticker\n",
    "\n",
    "import numpy as np\n",
    "import pandas as pd\n",
    "\n",
    "import watermark\n",
    "\n",
    "plt.style.use('./CDS_paper.mplstyle')\n",
    "tab10 = plt.get_cmap(\"tab10\").colors\n",
    "\n",
    "%matplotlib inline\n",
    "%load_ext watermark\n",
    "%watermark -n -v -m -g -iv"
   ]
  },
  {
   "cell_type": "markdown",
   "metadata": {},
   "source": [
    "Load data"
   ]
  },
  {
   "cell_type": "code",
   "execution_count": 2,
   "metadata": {},
   "outputs": [],
   "source": [
    "RP_og = pd.read_csv(\"bootstrap/relative_prevalence.tsv\", sep=\"\\t\", index_col=0, header=None)\n",
    "RP_both = pd.read_csv(\"bootstrap/relative_prevalence_no_urls_nor_http.tsv\", sep=\"\\t\", index_col=0, header=None)"
   ]
  },
  {
   "cell_type": "markdown",
   "metadata": {},
   "source": [
    "Define plotting functions"
   ]
  },
  {
   "cell_type": "code",
   "execution_count": 3,
   "metadata": {},
   "outputs": [],
   "source": [
    "def boxplot(ax, data, loc, color=(0, 0, 0)):    \n",
    "    ax.fill_between([data.quantile(q=0.25), data.quantile(q=0.75)], loc - 0.15, loc + 0.15,\n",
    "                    facecolor=(*color, 0.4), edgecolor=color, lw=3, zorder=3)\n",
    "    ax.vlines(data.mean(), loc - 0.25, loc + 0.25, color=color, zorder=3)\n",
    "    ax.plot([data.quantile(q=0.025), data.quantile(q=0.975)], [loc, loc],\n",
    "            color=color, lw=0, marker=\"|\", ms=12, mew=3, zorder=3)\n",
    "    ax.plot([data.quantile(q=0.025), data.quantile(q=0.25)], [loc, loc], color=color, marker=\"\", zorder=3)\n",
    "    ax.plot([data.quantile(q=0.75), data.quantile(q=0.975)], [loc, loc], color=color, marker=\"\", zorder=3)\n",
    "    \n",
    "    lower = data.values[data < data.quantile(q=0.025)]\n",
    "    upper = data.values[data > data.quantile(q=0.975)]\n",
    "\n",
    "    ax.scatter(lower, loc * np.ones(lower.shape), marker=\".\", color=color, zorder=3)\n",
    "    ax.scatter(upper, loc * np.ones(upper.shape), marker=\".\", color=color, zorder=3)\n",
    "    \n",
    "    return ax"
   ]
  },
  {
   "cell_type": "markdown",
   "metadata": {},
   "source": [
    "# Figure"
   ]
  },
  {
   "cell_type": "code",
   "execution_count": 4,
   "metadata": {},
   "outputs": [
    {
     "data": {
      "image/png": "[encoded data removed]",
      "text/plain": [
       "<Figure size 864x288 with 1 Axes>"
      ]
     },
     "metadata": {
      "needs_background": "light"
     },
     "output_type": "display_data"
    }
   ],
   "source": [
    "fig = plt.figure(figsize=(12, 4))\n",
    "ax = fig.add_subplot(111)\n",
    "\n",
    "ax = boxplot(ax, RP_og[1], 1, color=(0, 0, 0))\n",
    "ax = boxplot(ax, RP_both[1], 2, color=tab10[9])\n",
    "\n",
    "ax.fill_between([0.5, 1], 4, color='0.7', alpha=0.7, zorder=2)\n",
    "ax.vlines(1, 0, 4, color='k', lw=5, zorder=2)\n",
    "\n",
    "ax.set_xlim(left=0.95, right=1.2)\n",
    "ax.xaxis.set_major_locator(mticker.MultipleLocator(0.05))\n",
    "ax.xaxis.set_minor_locator(mticker.MultipleLocator(0.01))\n",
    "ax.set_xlabel(r\"\\textit{Between-cohort} prevalence ratio ($\\frac{P_D}{P_R}$)\")\n",
    "ax.set_ylim(bottom=0.5, top=2.5)\n",
    "ax.set_yticks([1, 2])\n",
    "ax.set_yticklabels([r\"Original comparison\", r\"Removed tweets with URLs\"])\n",
    "ax.yaxis.set_minor_locator(mticker.NullLocator())\n",
    "ax.invert_yaxis()\n",
    "ax.grid(axis=\"y\", which=\"major\", b=False)\n",
    "\n",
    "ax.annotate(r\"\\begin{center}\\noindent More prevalent in\\\\$R$ cohort\\end{center}\", (0.05, -0.2),\n",
    "            xycoords=\"axes fraction\", fontsize=16, va=\"center\", ha=\"center\")\n",
    "ax.annotate(r\"\\begin{center}\\noindent More prevalent in\\\\$D$ cohort\\end{center}\", (0.95, -0.2),\n",
    "            xycoords=\"axes fraction\", fontsize=16, va=\"center\", ha=\"center\")\n",
    "\n",
    "fig.savefig(\"figures/FigS3.pdf\", dpi=600, orientation='portrait',\n",
    "            facecolor='w', edgecolor='w', bbox_inches='tight')"
   ]
  },
  {
   "cell_type": "code",
   "execution_count": null,
   "metadata": {},
   "outputs": [],
   "source": []
  }
 ],
 "metadata": {
  "kernelspec": {
   "display_name": "Python 3",
   "language": "python",
   "name": "python3"
  },
  "language_info": {
   "codemirror_mode": {
    "name": "ipython",
    "version": 3
   },
   "file_extension": ".py",
   "mimetype": "text/x-python",
   "name": "python",
   "nbconvert_exporter": "python",
   "pygments_lexer": "ipython3",
   "version": "3.9.0"
  }
 },
 "nbformat": 4,
 "nbformat_minor": 2
}

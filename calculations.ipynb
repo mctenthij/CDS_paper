{
 "cells": [
  {
   "cell_type": "code",
   "execution_count": 1,
   "metadata": {},
   "outputs": [
    {
     "name": "stdout",
     "output_type": "stream",
     "text": [
      "Python implementation: CPython\n",
      "Python version       : 3.9.0\n",
      "IPython version      : 7.19.0\n",
      "\n",
      "Compiler    : Clang 12.0.0 (clang-1200.0.32.27)\n",
      "OS          : Darwin\n",
      "Release     : 20.1.0\n",
      "Machine     : x86_64\n",
      "Processor   : i386\n",
      "CPU cores   : 12\n",
      "Architecture: 64bit\n",
      "\n",
      "Git hash: \n",
      "\n",
      "watermark: 2.1.0\n",
      "scipy    : 1.5.4\n",
      "pandas   : 1.1.4\n",
      "numpy    : 1.19.4\n",
      "\n"
     ]
    }
   ],
   "source": [
    "import numpy as np\n",
    "import pandas as pd\n",
    "from scipy import stats\n",
    "\n",
    "from vaderSentiment.vaderSentiment import SentimentIntensityAnalyzer\n",
    "\n",
    "import watermark\n",
    "\n",
    "%load_ext watermark\n",
    "%watermark -n -v -m -g -iv"
   ]
  },
  {
   "cell_type": "markdown",
   "metadata": {},
   "source": [
    "To fully support reproduction of the results based on the information that is contained in our published data set, this notebook contains all calculations that are performed for the information that is displayed in the text of the manuscript. For the readers convenience, we have grouped this information per section of the manuscript."
   ]
  },
  {
   "cell_type": "markdown",
   "metadata": {},
   "source": [
    "# Results\n",
    "\n",
    "## Within-subject CDS prevalence"
   ]
  },
  {
   "cell_type": "markdown",
   "metadata": {},
   "source": [
    "Load demographic thresholds used to infer demographics based on M3 output."
   ]
  },
  {
   "cell_type": "code",
   "execution_count": 2,
   "metadata": {},
   "outputs": [],
   "source": [
    "from util import threshold, gender_thr, age_thr"
   ]
  },
  {
   "cell_type": "markdown",
   "metadata": {},
   "source": [
    "Define a function that outputs all results of Welch's unequal variances t-test. The statistic and p-value are calculated using `scipy.stats.ttest_ind`. The degrees of freedom (df) is calculated using\n",
    "\n",
    "$$ df = \\frac{\\left(\\frac{s_D^2}{n_D}+\\frac{s_R^2}{n_R}\\right)^2}{\\frac{\\left(\\frac{s_D^2}{n_D}\\right)^2}{n_D-1}+\\frac{\\left(\\frac{s_R^2}{n_R}\\right)^2}{n_R-1}} $$\n",
    "\n",
    "in which $s^2_D$ and $s^2_R$ are the variances of the input arrays $D$ and $R$, respectively. Moreover, $n_D$ and $n_R$ are the number of observations in the input arrays $D$ and $R$.\n",
    "\n",
    "The effect size is calculated using Cohen's $d$, which is defined as $d=\\frac{\\mu_D - \\mu_R}{s}$, in which $\\mu_D$ and $\\mu_R$ denote the mean of the input arrays $D$ and $R$, respectively, and\n",
    "\n",
    "$$ s = \\sqrt{\\frac{\\left(n_D-1\\right)\\cdot s_D^2 + \\left(n_R-1\\right)\\cdot s_R^2}{n_D+n_R-2}}$$"
   ]
  },
  {
   "cell_type": "code",
   "execution_count": 3,
   "metadata": {},
   "outputs": [],
   "source": [
    "def annotate_stats(D, R, lab):\n",
    "    W = stats.ttest_ind(D, R, equal_var=False)\n",
    "    \n",
    "    p1 = (D.var() / D.size + R.var() / R.size) ** 2\n",
    "    p2 = (D.var() / D.size) ** 2 / (D.size - 1) + (R.var() / R.size) ** 2 / (R.size - 1)\n",
    "    df = p1 / p2\n",
    "    \n",
    "    s = np.sqrt(((D.size - 1) * D.var() + (R.size - 1) * R.var()) / (D.size + R.size - 2))\n",
    "    Cohens_d = (D.mean() - R.mean()) / s\n",
    "    \n",
    "    pstr = \"P < 0.001\" if W.pvalue < 0.001 else \"P = {.3f}\".format(W.pvalue)\n",
    "    \n",
    "    print(\"{}: $t={:.2f}$ $($df$={:.0f}); {};$ Cohen's $d={:.2f}$\".format(lab, W.statistic, df, pstr, Cohens_d))"
   ]
  },
  {
   "cell_type": "markdown",
   "metadata": {},
   "source": [
    "Select groups of individuals for the $D$ cohort based on demographics information as obtained from M3."
   ]
  },
  {
   "cell_type": "code",
   "execution_count": 4,
   "metadata": {},
   "outputs": [],
   "source": [
    "demo_D = pd.read_csv(\"data/D_demographics.tsv\", sep=\"\\t\", index_col=[0], header=[0, 1])\n",
    "\n",
    "non_org_D = demo_D[(\"org\", \"non-org\")] >= threshold\n",
    "\n",
    "all_D = demo_D[non_org_D].index\n",
    "men_D = demo_D[non_org_D & (demo_D[(\"gender\", \"male\")] >= gender_thr)].index\n",
    "women_D = demo_D[non_org_D & (demo_D[(\"gender\", \"female\")] >= gender_thr)].index\n",
    "teens_D = demo_D[non_org_D & (demo_D[(\"age\", \"<=18\")] >= age_thr)].index\n",
    "twenties_D = demo_D[non_org_D & (demo_D[(\"age\", \"19-29\")] >= age_thr)].index\n",
    "thirties_D = demo_D[non_org_D & (demo_D[(\"age\", \"30-39\")] >= age_thr)].index\n",
    "adults_D = demo_D[non_org_D & (demo_D[(\"age\", \">=40\")] >= age_thr)].index"
   ]
  },
  {
   "cell_type": "markdown",
   "metadata": {},
   "source": [
    "Select groups of individuals for the $R$ cohort based on demographics information as obtained from M3."
   ]
  },
  {
   "cell_type": "code",
   "execution_count": 5,
   "metadata": {},
   "outputs": [],
   "source": [
    "demo_R = pd.read_csv(\"data/R_demographics.tsv\", sep=\"\\t\", index_col=[0], header=[0, 1])\n",
    "\n",
    "non_org_R = demo_R[(\"org\", \"non-org\")] >= threshold\n",
    "\n",
    "all_R = demo_R[non_org_R].index\n",
    "men_R = demo_R[non_org_R & (demo_R[(\"gender\", \"male\")] >= gender_thr)].index\n",
    "women_R = demo_R[non_org_R & (demo_R[(\"gender\", \"female\")] >= gender_thr)].index\n",
    "teens_R = demo_R[non_org_R & (demo_R[(\"age\", \"<=18\")] >= age_thr)].index\n",
    "twenties_R = demo_R[non_org_R & (demo_R[(\"age\", \"19-29\")] >= age_thr)].index\n",
    "thirties_R = demo_R[non_org_R & (demo_R[(\"age\", \"30-39\")] >= age_thr)].index\n",
    "adults_R = demo_R[non_org_R & (demo_R[(\"age\", \">=40\")] >= age_thr)].index"
   ]
  },
  {
   "cell_type": "markdown",
   "metadata": {},
   "source": [
    "Load within-user CDS prevalence per user for both cohorts."
   ]
  },
  {
   "cell_type": "code",
   "execution_count": 6,
   "metadata": {},
   "outputs": [],
   "source": [
    "CDS_D = pd.read_csv(\"results/D_within_user_prevalence.tsv\", sep=\"\\t\", index_col=[0])\n",
    "CDS_R = pd.read_csv(\"results/R_within_user_prevalence.tsv\", sep=\"\\t\", index_col=[0])"
   ]
  },
  {
   "cell_type": "markdown",
   "metadata": {},
   "source": [
    "Calculate mean of within-user CDS prevalence for the $D$ cohort ($\\bar{P}_D$)."
   ]
  },
  {
   "cell_type": "code",
   "execution_count": 7,
   "metadata": {},
   "outputs": [
    {
     "data": {
      "text/plain": [
       "0.23203790787320067"
      ]
     },
     "execution_count": 7,
     "metadata": {},
     "output_type": "execute_result"
    }
   ],
   "source": [
    "CDS_D.loc[all_D, \"prevalence\"].mean()"
   ]
  },
  {
   "cell_type": "markdown",
   "metadata": {},
   "source": [
    "Calculate mean of within-user CDS prevalence for the $R$ cohort ($\\bar{P}_R$)."
   ]
  },
  {
   "cell_type": "code",
   "execution_count": 8,
   "metadata": {},
   "outputs": [
    {
     "data": {
      "text/plain": [
       "0.17255157469621327"
      ]
     },
     "execution_count": 8,
     "metadata": {},
     "output_type": "execute_result"
    }
   ],
   "source": [
    "CDS_R.loc[all_R, \"prevalence\"].mean()"
   ]
  },
  {
   "cell_type": "markdown",
   "metadata": {},
   "source": [
    "Determine the difference in means using Welch's unequal variances t-test for all individuals."
   ]
  },
  {
   "cell_type": "code",
   "execution_count": 9,
   "metadata": {
    "scrolled": true
   },
   "outputs": [
    {
     "name": "stdout",
     "output_type": "stream",
     "text": [
      "All individuals: $t=21.20$ $($df$=1619); P < 0.001;$ Cohen's $d=0.56$\n"
     ]
    }
   ],
   "source": [
    "annotate_stats(CDS_D.loc[all_D, \"prevalence\"], CDS_R.loc[all_R, \"prevalence\"], r\"All individuals\")"
   ]
  },
  {
   "cell_type": "markdown",
   "metadata": {},
   "source": [
    "Determine the percentage of individuals in the $R$ cohort that have **no** tweets with CDS."
   ]
  },
  {
   "cell_type": "code",
   "execution_count": 10,
   "metadata": {},
   "outputs": [
    {
     "data": {
      "text/plain": [
       "9.756429446183153"
      ]
     },
     "execution_count": 10,
     "metadata": {},
     "output_type": "execute_result"
    }
   ],
   "source": [
    "(CDS_R.loc[all_R, \"prevalence\"] == 0).sum() / all_R.size * 100"
   ]
  },
  {
   "cell_type": "markdown",
   "metadata": {},
   "source": [
    "Determine the number of individuals in the $D$ ochort that have **no** tweets with CDS."
   ]
  },
  {
   "cell_type": "code",
   "execution_count": 11,
   "metadata": {},
   "outputs": [
    {
     "data": {
      "text/plain": [
       "4"
      ]
     },
     "execution_count": 11,
     "metadata": {},
     "output_type": "execute_result"
    }
   ],
   "source": [
    "(CDS_D.loc[all_D, \"prevalence\"] == 0).sum()"
   ]
  },
  {
   "cell_type": "markdown",
   "metadata": {},
   "source": [
    "Determine the percentage of individuals in the $D$ ochort that have **no** tweets with CDS."
   ]
  },
  {
   "cell_type": "code",
   "execution_count": 12,
   "metadata": {},
   "outputs": [
    {
     "data": {
      "text/plain": [
       "0.3864734299516908"
      ]
     },
     "execution_count": 12,
     "metadata": {},
     "output_type": "execute_result"
    }
   ],
   "source": [
    "(CDS_D.loc[all_D, \"prevalence\"] == 0).sum() / all_D.size * 100"
   ]
  },
  {
   "cell_type": "markdown",
   "metadata": {},
   "source": [
    "Determine the difference in means using Welch's unequal variances t-test for all demographic subgroups."
   ]
  },
  {
   "cell_type": "code",
   "execution_count": 13,
   "metadata": {},
   "outputs": [
    {
     "name": "stdout",
     "output_type": "stream",
     "text": [
      "Male: $t=9.82$ $($df$=335); P < 0.001;$ Cohen's $d=0.53$\n"
     ]
    }
   ],
   "source": [
    "annotate_stats(CDS_D.loc[men_D, \"prevalence\"], CDS_R.loc[men_R, \"prevalence\"], r\"Male\")"
   ]
  },
  {
   "cell_type": "code",
   "execution_count": 14,
   "metadata": {},
   "outputs": [
    {
     "name": "stdout",
     "output_type": "stream",
     "text": [
      "Female: $t=16.81$ $($df$=1127); P < 0.001;$ Cohen's $d=0.62$\n"
     ]
    }
   ],
   "source": [
    "annotate_stats(CDS_D.loc[women_D, \"prevalence\"], CDS_R.loc[women_R, \"prevalence\"], r\"Female\")"
   ]
  },
  {
   "cell_type": "code",
   "execution_count": 15,
   "metadata": {},
   "outputs": [
    {
     "name": "stdout",
     "output_type": "stream",
     "text": [
      "Aged 18 and under: $t=9.35$ $($df$=208); P < 0.001;$ Cohen's $d=0.71$\n"
     ]
    }
   ],
   "source": [
    "annotate_stats(CDS_D.loc[teens_D, \"prevalence\"], CDS_R.loc[teens_R, \"prevalence\"], r\"Aged 18 and under\")"
   ]
  },
  {
   "cell_type": "code",
   "execution_count": 16,
   "metadata": {},
   "outputs": [
    {
     "name": "stdout",
     "output_type": "stream",
     "text": [
      "Aged 19-29: $t=13.49$ $($df$=580); P < 0.001;$ Cohen's $d=0.67$\n"
     ]
    }
   ],
   "source": [
    "annotate_stats(CDS_D.loc[twenties_D, \"prevalence\"], CDS_R.loc[twenties_R, \"prevalence\"], r\"Aged 19-29\")"
   ]
  },
  {
   "cell_type": "code",
   "execution_count": 17,
   "metadata": {},
   "outputs": [
    {
     "name": "stdout",
     "output_type": "stream",
     "text": [
      "Aged 30-39: $t=7.73$ $($df$=217); P < 0.001;$ Cohen's $d=0.59$\n"
     ]
    }
   ],
   "source": [
    "annotate_stats(CDS_D.loc[thirties_D, \"prevalence\"], CDS_R.loc[thirties_R, \"prevalence\"], r\"Aged 30-39\")"
   ]
  },
  {
   "cell_type": "code",
   "execution_count": 18,
   "metadata": {},
   "outputs": [
    {
     "name": "stdout",
     "output_type": "stream",
     "text": [
      "Aged 40 and over: $t=3.49$ $($df$=103); P < 0.001;$ Cohen's $d=0.30$\n"
     ]
    }
   ],
   "source": [
    "annotate_stats(CDS_D.loc[adults_D, \"prevalence\"], CDS_R.loc[adults_R, \"prevalence\"], r\"Aged 40 and over\")"
   ]
  },
  {
   "cell_type": "markdown",
   "metadata": {},
   "source": [
    "## Between-cohort CDS prevalence"
   ]
  },
  {
   "cell_type": "markdown",
   "metadata": {},
   "source": [
    "Load number of tweets included in each bootstrap run."
   ]
  },
  {
   "cell_type": "code",
   "execution_count": 19,
   "metadata": {},
   "outputs": [],
   "source": [
    "tweets_per_run = pd.read_csv(\"bootstrap/tweets_per_run.tsv\", sep=\"\\t\", index_col=[0])"
   ]
  },
  {
   "cell_type": "markdown",
   "metadata": {},
   "source": [
    "Calculate 95% CI of the number of tweets included in the bootstrap for the $D$ cohort."
   ]
  },
  {
   "cell_type": "code",
   "execution_count": 20,
   "metadata": {},
   "outputs": [
    {
     "data": {
      "text/plain": [
       "(1454068.75, 1566230.325)"
      ]
     },
     "execution_count": 20,
     "metadata": {},
     "output_type": "execute_result"
    }
   ],
   "source": [
    "tweets_per_run[\"$D$\"].quantile(q=0.025), tweets_per_run[\"$D$\"].quantile(q=0.975)"
   ]
  },
  {
   "cell_type": "markdown",
   "metadata": {},
   "source": [
    "Calculate 95% CI of the number of tweets included in the bootstrap for the $R$ cohort."
   ]
  },
  {
   "cell_type": "code",
   "execution_count": 21,
   "metadata": {},
   "outputs": [
    {
     "data": {
      "text/plain": [
       "(6630441.375, 6941408.2)"
      ]
     },
     "execution_count": 21,
     "metadata": {},
     "output_type": "execute_result"
    }
   ],
   "source": [
    "tweets_per_run[\"$R$\"].quantile(q=0.025), tweets_per_run[\"$R$\"].quantile(q=0.975)"
   ]
  },
  {
   "cell_type": "markdown",
   "metadata": {},
   "source": [
    "Load prevalence ratios ($PR$) of all bootstrap iterations (All individuals: `relative_prevalence.tsv`, Aged 19-29: `relative_prevalence_twenties.tsv` and Aged 40 and over: `relative_prevalence_adults.tsv`)"
   ]
  },
  {
   "cell_type": "code",
   "execution_count": 22,
   "metadata": {},
   "outputs": [],
   "source": [
    "rel_prev = pd.read_csv(\"bootstrap/relative_prevalence.tsv\", sep=\"\\t\", index_col=[0], header=None)[1]\n",
    "twenties = pd.read_csv(\"bootstrap/relative_prevalence_twenties.tsv\", sep=\"\\t\", index_col=[0], header=None)[1]\n",
    "adults = pd.read_csv(\"bootstrap/relative_prevalence_adults.tsv\", sep=\"\\t\", index_col=[0], header=None)[1]"
   ]
  },
  {
   "cell_type": "markdown",
   "metadata": {},
   "source": [
    "Determine the 95% CI of the $PR$ for all individuals"
   ]
  },
  {
   "cell_type": "code",
   "execution_count": 23,
   "metadata": {},
   "outputs": [
    {
     "data": {
      "text/plain": [
       "(1.1019263973960869, 1.15714518156635)"
      ]
     },
     "execution_count": 23,
     "metadata": {},
     "output_type": "execute_result"
    }
   ],
   "source": [
    "rel_prev.quantile(q=0.025), rel_prev.quantile(q=0.975)"
   ]
  },
  {
   "cell_type": "markdown",
   "metadata": {},
   "source": [
    "Determine the median value of the $PR$ for all individuals"
   ]
  },
  {
   "cell_type": "code",
   "execution_count": 24,
   "metadata": {},
   "outputs": [
    {
     "data": {
      "text/plain": [
       "1.1292314690622147"
      ]
     },
     "execution_count": 24,
     "metadata": {},
     "output_type": "execute_result"
    }
   ],
   "source": [
    "rel_prev.median()"
   ]
  },
  {
   "cell_type": "markdown",
   "metadata": {},
   "source": [
    "Determine the median value of the $PR$ for all the demographic subgroups 'Aged 19-29' and 'Aged 40 and over', as these subgroups have the extreme values (observed from Figure 2)."
   ]
  },
  {
   "cell_type": "code",
   "execution_count": 25,
   "metadata": {},
   "outputs": [
    {
     "data": {
      "text/plain": [
       "(1.1022022065176276, 1.163640415363524)"
      ]
     },
     "execution_count": 25,
     "metadata": {},
     "output_type": "execute_result"
    }
   ],
   "source": [
    "adults.median(), twenties.median()"
   ]
  },
  {
   "cell_type": "markdown",
   "metadata": {},
   "source": [
    "## CDS prevalence by CD type"
   ]
  },
  {
   "cell_type": "markdown",
   "metadata": {},
   "source": [
    "Load cognitive distortion schemata (CDS)"
   ]
  },
  {
   "cell_type": "code",
   "execution_count": 26,
   "metadata": {},
   "outputs": [],
   "source": [
    "_CDS = pd.read_csv(\"data/list_of_CDS.tsv\", sep=\"\\t\", index_col=\"markers\")"
   ]
  },
  {
   "cell_type": "markdown",
   "metadata": {},
   "source": [
    "Load relative prevalence per category"
   ]
  },
  {
   "cell_type": "code",
   "execution_count": 27,
   "metadata": {},
   "outputs": [],
   "source": [
    "RP_phrase = pd.read_csv(\"bootstrap/relative_prevalence_phrase.tsv\", sep=\"\\t\", index_col=[0])"
   ]
  },
  {
   "cell_type": "markdown",
   "metadata": {},
   "source": [
    "Sort mean relative prevalence on median values"
   ]
  },
  {
   "cell_type": "code",
   "execution_count": 28,
   "metadata": {},
   "outputs": [
    {
     "name": "stderr",
     "output_type": "stream",
     "text": [
      "/usr/local/lib/python3.9/site-packages/numpy/lib/nanfunctions.py:993: RuntimeWarning: All-NaN slice encountered\n",
      "  result = np.apply_along_axis(_nanmedian1d, axis, a, overwrite_input)\n"
     ]
    }
   ],
   "source": [
    "sorted_vals = RP_phrase.median().sort_values().index"
   ]
  },
  {
   "cell_type": "markdown",
   "metadata": {},
   "source": [
    "Determine schemata that are used significantly more in one of the two cohorts"
   ]
  },
  {
   "cell_type": "code",
   "execution_count": 29,
   "metadata": {},
   "outputs": [
    {
     "name": "stderr",
     "output_type": "stream",
     "text": [
      "/usr/local/lib/python3.9/site-packages/numpy/lib/function_base.py:3968: RuntimeWarning: invalid value encountered in multiply\n",
      "  x2 = take(ap, indices_above, axis=axis) * weights_above\n"
     ]
    }
   ],
   "source": [
    "CI_low = RP_phrase.loc[:, sorted_vals].quantile(q=0.025)\n",
    "CI_high = RP_phrase.loc[:, sorted_vals].quantile(q=0.975)\n",
    "signif_vals = sorted_vals[(CI_low > 1) | (CI_high < 1)]"
   ]
  },
  {
   "cell_type": "markdown",
   "metadata": {},
   "source": [
    "Determine top schemata that are used significantly used more in the $D$ cohort"
   ]
  },
  {
   "cell_type": "code",
   "execution_count": 30,
   "metadata": {},
   "outputs": [
    {
     "data": {
      "text/plain": [
       "Index(['if it only', 'because my', 'because I feel', 'all my fault',\n",
       "       'a burden', 'because of my', 'I caused', 'will go wrong',\n",
       "       'everyone will think', 'they will not think'],\n",
       "      dtype='object')"
      ]
     },
     "execution_count": 30,
     "metadata": {},
     "output_type": "execute_result"
    }
   ],
   "source": [
    "signif_vals[-10:]"
   ]
  },
  {
   "cell_type": "markdown",
   "metadata": {},
   "source": [
    "Determine top schemata that are used significantly used more in the $R$ cohort"
   ]
  },
  {
   "cell_type": "code",
   "execution_count": 31,
   "metadata": {},
   "outputs": [
    {
     "data": {
      "text/plain": [
       "Index(['she will not believe', 'we will not think', 'nobody will believe',\n",
       "       'she will not think', 'all my doing', 'OK yet', 'we will not believe',\n",
       "       'only the worst', 'will be terrible', 'completely bad'],\n",
       "      dtype='object')"
      ]
     },
     "execution_count": 31,
     "metadata": {},
     "output_type": "execute_result"
    }
   ],
   "source": [
    "signif_vals[:10]"
   ]
  },
  {
   "cell_type": "markdown",
   "metadata": {},
   "source": [
    "# Robustness\n",
    "\n",
    "## Absence of sentiment effect"
   ]
  },
  {
   "cell_type": "markdown",
   "metadata": {},
   "source": [
    "Load all CDS and calculate their VADER sentiment score."
   ]
  },
  {
   "cell_type": "code",
   "execution_count": 32,
   "metadata": {},
   "outputs": [],
   "source": [
    "_CDS = pd.read_csv(\"data/list_of_CDS.tsv\", sep=\"\\t\", index_col=\"markers\")\n",
    "VADER = SentimentIntensityAnalyzer()\n",
    "_CDS[\"VADER\"] = _CDS.apply(lambda x: VADER.polarity_scores(x.name)['compound'], axis=1)"
   ]
  },
  {
   "cell_type": "markdown",
   "metadata": {},
   "source": [
    "Determine the percentage of CDS that has no sentiment loading (i.e., has obtained a score of `0`)."
   ]
  },
  {
   "cell_type": "code",
   "execution_count": 33,
   "metadata": {},
   "outputs": [
    {
     "data": {
      "text/plain": [
       "75.93360995850622"
      ]
     },
     "execution_count": 33,
     "metadata": {},
     "output_type": "execute_result"
    }
   ],
   "source": [
    "_CDS[\"VADER\"][_CDS[\"VADER\"] == 0].size / _CDS[\"VADER\"].size * 100"
   ]
  },
  {
   "cell_type": "markdown",
   "metadata": {},
   "source": [
    "Determine the average sentiment loading of all CDS."
   ]
  },
  {
   "cell_type": "code",
   "execution_count": 34,
   "metadata": {
    "scrolled": true
   },
   "outputs": [
    {
     "data": {
      "text/plain": [
       "-0.050950622406639"
      ]
     },
     "execution_count": 34,
     "metadata": {},
     "output_type": "execute_result"
    }
   ],
   "source": [
    "_CDS[\"VADER\"].mean()"
   ]
  },
  {
   "cell_type": "code",
   "execution_count": null,
   "metadata": {},
   "outputs": [],
   "source": []
  }
 ],
 "metadata": {
  "kernelspec": {
   "display_name": "Python 3",
   "language": "python",
   "name": "python3"
  },
  "language_info": {
   "codemirror_mode": {
    "name": "ipython",
    "version": 3
   },
   "file_extension": ".py",
   "mimetype": "text/x-python",
   "name": "python",
   "nbconvert_exporter": "python",
   "pygments_lexer": "ipython3",
   "version": "3.9.0"
  }
 },
 "nbformat": 4,
 "nbformat_minor": 2
}

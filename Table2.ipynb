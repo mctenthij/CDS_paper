{
 "cells": [
  {
   "cell_type": "code",
   "execution_count": 1,
   "metadata": {},
   "outputs": [
    {
     "name": "stdout",
     "output_type": "stream",
     "text": [
      "Python implementation: CPython\n",
      "Python version       : 3.9.0\n",
      "IPython version      : 7.19.0\n",
      "\n",
      "Compiler    : Clang 12.0.0 (clang-1200.0.32.27)\n",
      "OS          : Darwin\n",
      "Release     : 20.1.0\n",
      "Machine     : x86_64\n",
      "Processor   : i386\n",
      "CPU cores   : 12\n",
      "Architecture: 64bit\n",
      "\n",
      "Git hash: \n",
      "\n",
      "watermark: 2.1.0\n",
      "pandas   : 1.1.4\n",
      "\n"
     ]
    }
   ],
   "source": [
    "import pandas as pd\n",
    "\n",
    "import watermark\n",
    "%load_ext watermark\n",
    "%watermark -n -v -m -g -iv"
   ]
  },
  {
   "cell_type": "markdown",
   "metadata": {},
   "source": [
    "Load user information"
   ]
  },
  {
   "cell_type": "code",
   "execution_count": 2,
   "metadata": {},
   "outputs": [],
   "source": [
    "user_info_D = pd.read_csv(\"data/D_user_information.tsv\", sep=\"\\t\", index_col=[0])\n",
    "user_info_R = pd.read_csv(\"data/R_user_information.tsv\", sep=\"\\t\", index_col=[0])"
   ]
  },
  {
   "cell_type": "markdown",
   "metadata": {},
   "source": [
    "Load demographics information"
   ]
  },
  {
   "cell_type": "code",
   "execution_count": 3,
   "metadata": {},
   "outputs": [],
   "source": [
    "demo_D = pd.read_csv(\"data/D_demographics.tsv\", sep=\"\\t\", index_col=[0], header=[0, 1])\n",
    "demo_R = pd.read_csv(\"data/R_demographics.tsv\", sep=\"\\t\", index_col=[0], header=[0, 1])"
   ]
  },
  {
   "cell_type": "markdown",
   "metadata": {},
   "source": [
    "Load number of tweets and date ranges"
   ]
  },
  {
   "cell_type": "code",
   "execution_count": 4,
   "metadata": {},
   "outputs": [],
   "source": [
    "tweet_count_D = pd.read_csv(\"results/D_number_of_tweets.tsv\", sep=\"\\t\", index_col=\"user_id\")\n",
    "tweet_count_R = pd.read_csv(\"results/R_number_of_tweets.tsv\", sep=\"\\t\", index_col=\"user_id\")"
   ]
  },
  {
   "cell_type": "markdown",
   "metadata": {},
   "source": [
    "Load depression labels"
   ]
  },
  {
   "cell_type": "code",
   "execution_count": 5,
   "metadata": {},
   "outputs": [],
   "source": [
    "labels = pd.read_csv(\"data/D_diagnosis_labels.tsv\", sep=\"\\t\", index_col=[0])"
   ]
  },
  {
   "cell_type": "markdown",
   "metadata": {},
   "source": [
    "Load thresholds from external file"
   ]
  },
  {
   "cell_type": "code",
   "execution_count": 6,
   "metadata": {},
   "outputs": [],
   "source": [
    "from util import threshold, gender_thr, age_thr"
   ]
  },
  {
   "cell_type": "markdown",
   "metadata": {},
   "source": [
    "Check demographic group membership based on thresholds"
   ]
  },
  {
   "cell_type": "code",
   "execution_count": 7,
   "metadata": {},
   "outputs": [],
   "source": [
    "non_org_D = demo_D[(\"org\", \"non-org\")] >= threshold\n",
    "male_D = demo_D[(\"gender\", \"male\")] >= gender_thr\n",
    "female_D = demo_D[(\"gender\", \"female\")] >= gender_thr\n",
    "under_eightteen_D = demo_D[(\"age\", \"<=18\")] >= age_thr\n",
    "nineteen_twentynine_D = demo_D[(\"age\", \"19-29\")] >= age_thr\n",
    "thirty_thirtynine_D = demo_D[(\"age\", \"30-39\")] >= age_thr\n",
    "over_fourty_D = demo_D[(\"age\", \">=40\")] >= age_thr\n",
    "\n",
    "non_org_R = demo_R[(\"org\", \"non-org\")] >= threshold\n",
    "male_R = demo_R[(\"gender\", \"male\")] >= gender_thr\n",
    "female_R = demo_R[(\"gender\", \"female\")] >= gender_thr\n",
    "under_eightteen_R = demo_R[(\"age\", \"<=18\")] >= age_thr\n",
    "nineteen_twentynine_R = demo_R[(\"age\", \"19-29\")] >= age_thr\n",
    "thirty_thirtynine_R = demo_R[(\"age\", \"30-39\")] >= age_thr\n",
    "over_fourty_R = demo_R[(\"age\", \">=40\")] >= age_thr"
   ]
  },
  {
   "cell_type": "markdown",
   "metadata": {},
   "source": [
    "Select groups of individuals based on demographics information"
   ]
  },
  {
   "cell_type": "code",
   "execution_count": 8,
   "metadata": {},
   "outputs": [],
   "source": [
    "all_D = demo_D[non_org_D].index\n",
    "men_D = demo_D[male_D & non_org_D].index\n",
    "women_D = demo_D[female_D & non_org_D].index\n",
    "teens_D = demo_D[under_eightteen_D & non_org_D].index\n",
    "twenties_D = demo_D[nineteen_twentynine_D & non_org_D].index\n",
    "thirties_D = demo_D[thirty_thirtynine_D & non_org_D].index\n",
    "adults_D = demo_D[over_fourty_D & non_org_D].index\n",
    "\n",
    "all_R = demo_R[non_org_R].index\n",
    "men_R = demo_R[male_R & non_org_R].index\n",
    "women_R = demo_R[female_R & non_org_R].index\n",
    "teens_R = demo_R[under_eightteen_R & non_org_R].index\n",
    "twenties_R = demo_R[nineteen_twentynine_R & non_org_R].index\n",
    "thirties_R = demo_R[thirty_thirtynine_R & non_org_R].index\n",
    "adults_R = demo_R[over_fourty_R & non_org_R].index"
   ]
  },
  {
   "cell_type": "markdown",
   "metadata": {},
   "source": [
    "Determine total users per subcategory to determine percentages "
   ]
  },
  {
   "cell_type": "code",
   "execution_count": 9,
   "metadata": {},
   "outputs": [],
   "source": [
    "users_D = user_info_D.shape[0]\n",
    "filt_D = user_info_D.sum()[\"in_filtered\"]\n",
    "gender_D = men_D.size + women_D.size\n",
    "age_D = teens_D.size + twenties_D.size + thirties_D.size + adults_D.size\n",
    "\n",
    "users_R = user_info_R.shape[0]\n",
    "filt_R = user_info_R.sum()[\"in_filtered\"]\n",
    "gender_R = men_R.size + women_R.size\n",
    "age_R = teens_R.size + twenties_R.size + thirties_R.size + adults_R.size"
   ]
  },
  {
   "cell_type": "markdown",
   "metadata": {},
   "source": [
    "# Initialize Table"
   ]
  },
  {
   "cell_type": "code",
   "execution_count": 10,
   "metadata": {},
   "outputs": [],
   "source": [
    "idx = pd.MultiIndex.from_tuples([('total', 'individuals'), ('gender', 'all'), ('gender', 'male'), ('gender', 'female'), \n",
    "                                 ('age', 'all'), ('age', '<=18'), ('age', '19-29'), ('age', '30-39'), ('age', '>=40')])\n",
    "\n",
    "col = pd.MultiIndex.from_tuples([(r\"$D$\", r\"\\# accounts\"), (r\"$D$\", r\"\\# tweets\"),\n",
    "                                 (r\"$R$\", r\"\\# accounts\"), (r\"$R$\", r\"\\# tweets\")])\n",
    "\n",
    "table = pd.DataFrame(index=idx, columns=col, data=\"\")"
   ]
  },
  {
   "cell_type": "markdown",
   "metadata": {},
   "source": [
    "Fill totals rows"
   ]
  },
  {
   "cell_type": "code",
   "execution_count": 11,
   "metadata": {},
   "outputs": [],
   "source": [
    "table.loc[('total', 'individuals'), (r\"$D$\", r\"\\# accounts\")] = r\"{:,} (100.00%)\".format(all_D.size)\n",
    "table.loc[('total', 'individuals'), (r\"$R$\", r\"\\# accounts\")] = r\"{:,} (100.00%)\".format(all_R.size)"
   ]
  },
  {
   "cell_type": "markdown",
   "metadata": {},
   "source": [
    "Fill gender rows"
   ]
  },
  {
   "cell_type": "code",
   "execution_count": 12,
   "metadata": {},
   "outputs": [],
   "source": [
    "table.loc[('gender', 'all'), (r\"$D$\", r\"\\# accounts\")] = r\"{:,} ({:6.2f}%)\".format(gender_D, 100 * gender_D / all_D.size)\n",
    "table.loc[('gender', 'all'), (r\"$R$\", r\"\\# accounts\")] = r\"{:,} ({:6.2f}%)\".format(gender_R, 100 * gender_R / all_R.size)\n",
    "\n",
    "table.loc[('gender', 'male'), (r\"$D$\", r\"\\# accounts\")] = r\"{:,} ({:6.2f}%)\".format(men_D.size, 100 * men_D.size / gender_D)\n",
    "table.loc[('gender', 'male'), (r\"$D$\", r\"\\# tweets\")] = r\"{:,}\".format(tweet_count_D.loc[men_D, \"count\"].sum())\n",
    "table.loc[('gender', 'male'), (r\"$R$\", r\"\\# accounts\")] = r\"{:,} ({:6.2f}%)\".format(men_R.size, 100 * men_R.size / gender_R)\n",
    "table.loc[('gender', 'male'), (r\"$R$\", r\"\\# tweets\")] = r\"{:,}\".format(tweet_count_R.loc[men_R, \"count\"].sum())\n",
    "\n",
    "table.loc[('gender', 'female'), (r\"$D$\", r\"\\# accounts\")] = r\"{:,} ({:6.2f}%)\".format(women_D.size, 100 * women_D.size / gender_D)\n",
    "table.loc[('gender', 'female'), (r\"$D$\", r\"\\# tweets\")] = r\"{:,}\".format(tweet_count_D.loc[women_D, \"count\"].sum())\n",
    "table.loc[('gender', 'female'), (r\"$R$\", r\"\\# accounts\")] = r\"{:,} ({:6.2f}%)\".format(women_R.size, 100 * women_R.size / gender_R)\n",
    "table.loc[('gender', 'female'), (r\"$R$\", r\"\\# tweets\")] = r\"{:,}\".format(tweet_count_R.loc[women_R, \"count\"].sum())"
   ]
  },
  {
   "cell_type": "markdown",
   "metadata": {},
   "source": [
    "Fill age rows"
   ]
  },
  {
   "cell_type": "code",
   "execution_count": 13,
   "metadata": {},
   "outputs": [],
   "source": [
    "table.loc[('age', 'all'), (r\"$D$\", \"\\# accounts\")] = r\"{:,} ({:6.2f}%)\".format(age_D, 100 * age_D / all_D.size)\n",
    "table.loc[('age', 'all'), (r\"$R$\", \"\\# accounts\")] = r\"{:,} ({:6.2f}%)\".format(age_R, 100 * age_R / all_R.size)\n",
    "\n",
    "table.loc[('age', '<=18'), (r\"$D$\", r\"\\# accounts\")] = r\"{:,} ({:6.2f}%)\".format(teens_D.size, 100 * teens_D.size / age_D)\n",
    "table.loc[('age', '<=18'), (r\"$D$\", r\"\\# tweets\")] = r\"{:,}\".format(tweet_count_D.loc[teens_D, \"count\"].sum())\n",
    "table.loc[('age', '<=18'), (r\"$R$\", r\"\\# accounts\")] = r\"{:,} ({:6.2f}%)\".format(teens_R.size, 100 * teens_R.size / age_R)\n",
    "table.loc[('age', '<=18'), (r\"$R$\", r\"\\# tweets\")] = r\"{:,}\".format(tweet_count_R.loc[teens_R, \"count\"].sum())\n",
    "\n",
    "table.loc[('age', '19-29'), (r\"$D$\", r\"\\# accounts\")] = r\"{:,} ({:6.2f}%)\".format(twenties_D.size, 100 * twenties_D.size / age_D)\n",
    "table.loc[('age', '19-29'), (r\"$D$\", r\"\\# tweets\")] = r\"{:,}\".format(tweet_count_D.loc[twenties_D, \"count\"].sum())\n",
    "table.loc[('age', '19-29'), (r\"$R$\", r\"\\# accounts\")] = r\"{:,} ({:6.2f}%)\".format(twenties_R.size, 100 * twenties_R.size / age_R)\n",
    "table.loc[('age', '19-29'), (r\"$R$\", r\"\\# tweets\")] = r\"{:,}\".format(tweet_count_R.loc[twenties_R, \"count\"].sum())\n",
    "\n",
    "table.loc[('age', '30-39'), (r\"$D$\", r\"\\# accounts\")] = r\"{:,} ({:6.2f}%)\".format(thirties_D.size, 100 * thirties_D.size / age_D)\n",
    "table.loc[('age', '30-39'), (r\"$D$\", r\"\\# tweets\")] = r\"{:,}\".format(tweet_count_D.loc[thirties_D, \"count\"].sum())\n",
    "table.loc[('age', '30-39'), (r\"$R$\", r\"\\# accounts\")] = r\"{:,} ({:6.2f}%)\".format(thirties_R.size, 100 * thirties_R.size / age_R)\n",
    "table.loc[('age', '30-39'), (r\"$R$\", r\"\\# tweets\")] = r\"{:,}\".format(tweet_count_R.loc[thirties_R, \"count\"].sum())\n",
    "\n",
    "table.loc[('age', '>=40'), (r\"$D$\", r\"\\# accounts\")] = r\"{:,} ({:6.2f}%)\".format(adults_D.size, 100 * adults_D.size / age_D)\n",
    "table.loc[('age', '>=40'), (r\"$D$\", r\"\\# tweets\")] = r\"{:,}\".format(tweet_count_D.loc[adults_D, \"count\"].sum())\n",
    "table.loc[('age', '>=40'), (r\"$R$\", r\"\\# accounts\")] = r\"{:,} ({:6.2f}%)\".format(adults_R.size, 100 * adults_R.size / age_R)\n",
    "table.loc[('age', '>=40'), (r\"$R$\", r\"\\# tweets\")] = r\"{:,}\".format(tweet_count_R.loc[adults_R, \"count\"].sum())"
   ]
  },
  {
   "cell_type": "markdown",
   "metadata": {},
   "source": [
    "# Table"
   ]
  },
  {
   "cell_type": "code",
   "execution_count": 14,
   "metadata": {
    "scrolled": false
   },
   "outputs": [
    {
     "data": {
      "text/html": [
       "<div>\n",
       "<style scoped>\n",
       "    .dataframe tbody tr th:only-of-type {\n",
       "        vertical-align: middle;\n",
       "    }\n",
       "\n",
       "    .dataframe tbody tr th {\n",
       "        vertical-align: top;\n",
       "    }\n",
       "\n",
       "    .dataframe thead tr th {\n",
       "        text-align: left;\n",
       "    }\n",
       "</style>\n",
       "<table border=\"1\" class=\"dataframe\">\n",
       "  <thead>\n",
       "    <tr>\n",
       "      <th></th>\n",
       "      <th></th>\n",
       "      <th colspan=\"2\" halign=\"left\">$D$</th>\n",
       "      <th colspan=\"2\" halign=\"left\">$R$</th>\n",
       "    </tr>\n",
       "    <tr>\n",
       "      <th></th>\n",
       "      <th></th>\n",
       "      <th>\\# accounts</th>\n",
       "      <th>\\# tweets</th>\n",
       "      <th>\\# accounts</th>\n",
       "      <th>\\# tweets</th>\n",
       "    </tr>\n",
       "  </thead>\n",
       "  <tbody>\n",
       "    <tr>\n",
       "      <th>total</th>\n",
       "      <th>individuals</th>\n",
       "      <td>1,035 (100.00%)</td>\n",
       "      <td></td>\n",
       "      <td>7,349 (100.00%)</td>\n",
       "      <td></td>\n",
       "    </tr>\n",
       "    <tr>\n",
       "      <th rowspan=\"3\" valign=\"top\">gender</th>\n",
       "      <th>all</th>\n",
       "      <td>887 ( 85.70%)</td>\n",
       "      <td></td>\n",
       "      <td>6,231 ( 84.79%)</td>\n",
       "      <td></td>\n",
       "    </tr>\n",
       "    <tr>\n",
       "      <th>male</th>\n",
       "      <td>268 ( 30.21%)</td>\n",
       "      <td>400,444</td>\n",
       "      <td>3,313 ( 53.17%)</td>\n",
       "      <td>3,403,224</td>\n",
       "    </tr>\n",
       "    <tr>\n",
       "      <th>female</th>\n",
       "      <td>619 ( 69.79%)</td>\n",
       "      <td>908,850</td>\n",
       "      <td>2,918 ( 46.83%)</td>\n",
       "      <td>2,504,347</td>\n",
       "    </tr>\n",
       "    <tr>\n",
       "      <th rowspan=\"5\" valign=\"top\">age</th>\n",
       "      <th>all</th>\n",
       "      <td>687 ( 66.38%)</td>\n",
       "      <td></td>\n",
       "      <td>4,934 ( 67.14%)</td>\n",
       "      <td></td>\n",
       "    </tr>\n",
       "    <tr>\n",
       "      <th>&lt;=18</th>\n",
       "      <td>152 ( 22.13%)</td>\n",
       "      <td>158,595</td>\n",
       "      <td>1,200 ( 24.32%)</td>\n",
       "      <td>694,398</td>\n",
       "    </tr>\n",
       "    <tr>\n",
       "      <th>19-29</th>\n",
       "      <td>318 ( 46.29%)</td>\n",
       "      <td>463,811</td>\n",
       "      <td>1,648 ( 33.40%)</td>\n",
       "      <td>1,483,615</td>\n",
       "    </tr>\n",
       "    <tr>\n",
       "      <th>30-39</th>\n",
       "      <td>135 ( 19.65%)</td>\n",
       "      <td>245,245</td>\n",
       "      <td>845 ( 17.13%)</td>\n",
       "      <td>998,023</td>\n",
       "    </tr>\n",
       "    <tr>\n",
       "      <th>&gt;=40</th>\n",
       "      <td>82 ( 11.94%)</td>\n",
       "      <td>134,323</td>\n",
       "      <td>1,241 ( 25.15%)</td>\n",
       "      <td>1,401,708</td>\n",
       "    </tr>\n",
       "  </tbody>\n",
       "</table>\n",
       "</div>"
      ],
      "text/plain": [
       "                                $D$                        $R$           \n",
       "                        \\# accounts \\# tweets      \\# accounts  \\# tweets\n",
       "total  individuals  1,035 (100.00%)            7,349 (100.00%)           \n",
       "gender all            887 ( 85.70%)            6,231 ( 84.79%)           \n",
       "       male           268 ( 30.21%)   400,444  3,313 ( 53.17%)  3,403,224\n",
       "       female         619 ( 69.79%)   908,850  2,918 ( 46.83%)  2,504,347\n",
       "age    all            687 ( 66.38%)            4,934 ( 67.14%)           \n",
       "       <=18           152 ( 22.13%)   158,595  1,200 ( 24.32%)    694,398\n",
       "       19-29          318 ( 46.29%)   463,811  1,648 ( 33.40%)  1,483,615\n",
       "       30-39          135 ( 19.65%)   245,245    845 ( 17.13%)    998,023\n",
       "       >=40            82 ( 11.94%)   134,323  1,241 ( 25.15%)  1,401,708"
      ]
     },
     "execution_count": 14,
     "metadata": {},
     "output_type": "execute_result"
    }
   ],
   "source": [
    "table"
   ]
  },
  {
   "cell_type": "code",
   "execution_count": 15,
   "metadata": {},
   "outputs": [],
   "source": [
    "table.to_csv(\"figures/Table2.tex\", sep=\"&\")"
   ]
  },
  {
   "cell_type": "code",
   "execution_count": null,
   "metadata": {},
   "outputs": [],
   "source": []
  }
 ],
 "metadata": {
  "kernelspec": {
   "display_name": "Python 3",
   "language": "python",
   "name": "python3"
  },
  "language_info": {
   "codemirror_mode": {
    "name": "ipython",
    "version": 3
   },
   "file_extension": ".py",
   "mimetype": "text/x-python",
   "name": "python",
   "nbconvert_exporter": "python",
   "pygments_lexer": "ipython3",
   "version": "3.9.0"
  }
 },
 "nbformat": 4,
 "nbformat_minor": 2
}

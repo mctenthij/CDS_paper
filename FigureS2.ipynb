{
 "cells": [
  {
   "cell_type": "code",
   "execution_count": 1,
   "metadata": {},
   "outputs": [
    {
     "name": "stdout",
     "output_type": "stream",
     "text": [
      "Python implementation: CPython\n",
      "Python version       : 3.9.0\n",
      "IPython version      : 7.19.0\n",
      "\n",
      "Compiler    : Clang 12.0.0 (clang-1200.0.32.27)\n",
      "OS          : Darwin\n",
      "Release     : 20.1.0\n",
      "Machine     : x86_64\n",
      "Processor   : i386\n",
      "CPU cores   : 12\n",
      "Architecture: 64bit\n",
      "\n",
      "Git hash: \n",
      "\n",
      "matplotlib: 3.3.3\n",
      "scipy     : 1.5.4\n",
      "pandas    : 1.1.4\n",
      "numpy     : 1.19.4\n",
      "watermark : 2.1.0\n",
      "\n"
     ]
    }
   ],
   "source": [
    "import matplotlib.pyplot as plt\n",
    "import matplotlib.ticker as mticker\n",
    "\n",
    "import numpy as np\n",
    "import pandas as pd\n",
    "from scipy import stats\n",
    "\n",
    "import watermark\n",
    "\n",
    "plt.style.use('./CDS_paper.mplstyle')\n",
    "tab10 = plt.get_cmap(\"tab10\").colors\n",
    "\n",
    "%matplotlib inline\n",
    "%load_ext watermark\n",
    "%watermark -n -v -m -g -iv"
   ]
  },
  {
   "cell_type": "markdown",
   "metadata": {},
   "source": [
    "Load data for all individuals in the $D$ cohort"
   ]
  },
  {
   "cell_type": "code",
   "execution_count": 2,
   "metadata": {},
   "outputs": [],
   "source": [
    "CDS_D_prev_noURLs = pd.read_csv(\"results/D_no_urls_nor_http_within_user_prevalence.tsv\", sep=\"\\t\", index_col=0)\n",
    "CDS_D_prev = pd.read_csv(\"results/D_within_user_prevalence.tsv\", sep=\"\\t\", index_col=0)"
   ]
  },
  {
   "cell_type": "markdown",
   "metadata": {},
   "source": [
    "Load data for all individuals in the $R$ cohort"
   ]
  },
  {
   "cell_type": "code",
   "execution_count": 3,
   "metadata": {},
   "outputs": [],
   "source": [
    "CDS_R_prev_noURLs = pd.read_csv(\"results/R_no_urls_nor_http_within_user_prevalence.tsv\", sep=\"\\t\", index_col=0)\n",
    "CDS_R_prev = pd.read_csv(\"results/R_within_user_prevalence.tsv\", sep=\"\\t\", index_col=0)"
   ]
  },
  {
   "cell_type": "markdown",
   "metadata": {},
   "source": [
    "Define plotting functions"
   ]
  },
  {
   "cell_type": "code",
   "execution_count": 4,
   "metadata": {},
   "outputs": [],
   "source": [
    "def boxplot(ax, data, loc, color=(0, 0, 0)):    \n",
    "    ax.fill_between([data.quantile(q=0.25), data.quantile(q=0.75)], loc - 0.15, loc + 0.15,\n",
    "                    facecolor=(*color, 0.4), edgecolor=color, lw=3, zorder=3)\n",
    "    ax.vlines(data.mean(), loc - 0.25, loc + 0.25, color=color, zorder=3)\n",
    "    ax.plot([data.quantile(q=0.025), data.quantile(q=0.975)], [loc, loc],\n",
    "            color=color, lw=0, marker=\"|\", ms=12, mew=3, zorder=3)\n",
    "    ax.plot([data.quantile(q=0.025), data.quantile(q=0.25)], [loc, loc], color=color, marker=\"\", zorder=3)\n",
    "    ax.plot([data.quantile(q=0.75), data.quantile(q=0.975)], [loc, loc], color=color, marker=\"\", zorder=3)\n",
    "    \n",
    "    lower = data.values[data < data.quantile(q=0.025)]\n",
    "    upper = data.values[data > data.quantile(q=0.975)]\n",
    "\n",
    "    ax.scatter(lower, loc * np.ones(lower.shape), marker=\".\", color=color, zorder=3)\n",
    "    ax.scatter(upper, loc * np.ones(upper.shape), marker=\".\", color=color, zorder=3)\n",
    "    \n",
    "    return ax\n",
    "\n",
    "\n",
    "def check_significance(p):\n",
    "    if p < 0.001:\n",
    "        return \"***\"\n",
    "    elif p < 0.01:\n",
    "        return \"**\"\n",
    "    elif p < 0.05:\n",
    "        return \"*\"\n",
    "    else:\n",
    "        return \"\"\n",
    "\n",
    "\n",
    "def annotate_stats(ax, D, R, loc):\n",
    "    W = stats.ttest_ind(D, R, equal_var=False)\n",
    "    ax.annotate(r\"{}\".format(check_significance(W.pvalue)), (0.99, loc + 0.075),\n",
    "                xycoords=\"data\", ha=\"right\", va=\"top\", fontsize=16)\n",
    "    return ax"
   ]
  },
  {
   "cell_type": "markdown",
   "metadata": {},
   "source": [
    "# Figure"
   ]
  },
  {
   "cell_type": "code",
   "execution_count": 5,
   "metadata": {},
   "outputs": [
    {
     "data": {
      "image/png": "[encoded data removed]",
      "text/plain": [
       "<Figure size 864x288 with 1 Axes>"
      ]
     },
     "metadata": {
      "needs_background": "light"
     },
     "output_type": "display_data"
    }
   ],
   "source": [
    "fig = plt.figure(figsize=(12, 4))\n",
    "ax = fig.add_subplot(111)\n",
    "\n",
    "ax = annotate_stats(ax, CDS_D_prev[\"prevalence\"], CDS_R_prev[\"prevalence\"], 0)\n",
    "ax = boxplot(ax, CDS_D_prev[\"prevalence\"], 0.5, color=tab10[0])\n",
    "ax = boxplot(ax, CDS_R_prev[\"prevalence\"], 1, color=tab10[1])\n",
    "ax = annotate_stats(ax, CDS_D_prev_noURLs[\"prevalence\"], CDS_R_prev_noURLs[\"prevalence\"], 1.5)\n",
    "ax = boxplot(ax, CDS_D_prev_noURLs[\"prevalence\"], 2, color=tab10[0])\n",
    "ax = boxplot(ax, CDS_R_prev_noURLs[\"prevalence\"], 2.5, color=tab10[1])\n",
    "ax.hlines([1.5], -0.005, 1.005, color=\"k\", lw=1, zorder=2)\n",
    "ax.set_xlim(-0.005, 1.005)\n",
    "ax.xaxis.set_major_locator(mticker.MultipleLocator(0.1))\n",
    "ax.xaxis.set_minor_locator(mticker.MultipleLocator(0.01))\n",
    "ax.set_xlabel(r\"\\textit{Within-subject} prevalence ($p$)\")\n",
    "ax.set_ylim(bottom=0, top=3)\n",
    "ax.set_yticks([0.75, 2.25])\n",
    "ax.set_yticklabels([r\"Original comparison\", r\"Removed tweets with URLs\"])\n",
    "ax.yaxis.set_minor_locator(mticker.NullLocator())\n",
    "ax.invert_yaxis()\n",
    "ax.grid(axis=\"y\", which=\"major\", b=False)\n",
    "\n",
    "fig.savefig(\"figures/FigS2.pdf\", dpi=600, orientation='portrait',\n",
    "            facecolor='w', edgecolor='w', bbox_inches='tight')"
   ]
  },
  {
   "cell_type": "code",
   "execution_count": null,
   "metadata": {},
   "outputs": [],
   "source": []
  }
 ],
 "metadata": {
  "kernelspec": {
   "display_name": "Python 3",
   "language": "python",
   "name": "python3"
  },
  "language_info": {
   "codemirror_mode": {
    "name": "ipython",
    "version": 3
   },
   "file_extension": ".py",
   "mimetype": "text/x-python",
   "name": "python",
   "nbconvert_exporter": "python",
   "pygments_lexer": "ipython3",
   "version": "3.9.0"
  }
 },
 "nbformat": 4,
 "nbformat_minor": 2
}
